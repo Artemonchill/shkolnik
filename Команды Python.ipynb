{
 "cells": [
  {
   "cell_type": "code",
   "execution_count": null,
   "id": "dc44872c",
   "metadata": {},
   "outputs": [],
   "source": [
    "print\n",
    "if\n",
    "else\n",
    "elif\n",
    "range in\n",
    "input\n",
    "int\n",
    "def\n",
    "len\n",
    "for\n",
    "count\n",
    "//\n",
    "==\n",
    "list\n",
    "/\n",
    "-\n",
    "+\n",
    "%\n",
    "**\n",
    "*"
   ]
  }
 ],
 "metadata": {
  "kernelspec": {
   "display_name": "Python 3 (ipykernel)",
   "language": "python",
   "name": "python3"
  },
  "language_info": {
   "codemirror_mode": {
    "name": "ipython",
    "version": 3
   },
   "file_extension": ".py",
   "mimetype": "text/x-python",
   "name": "python",
   "nbconvert_exporter": "python",
   "pygments_lexer": "ipython3",
   "version": "3.9.13"
  }
 },
 "nbformat": 4,
 "nbformat_minor": 5
}
